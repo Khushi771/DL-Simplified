{
  "nbformat": 4,
  "nbformat_minor": 0,
  "metadata": {
    "colab": {
      "provenance": []
    },
    "kernelspec": {
      "name": "python3",
      "display_name": "Python 3"
    },
    "language_info": {
      "name": "python"
    },
    "accelerator": "GPU",
    "gpuClass": "standard"
  },
  "cells": [
    {
      "cell_type": "markdown",
      "source": [
        "# **Importing the essential libraries**"
      ],
      "metadata": {
        "id": "QVEvbblxotVH"
      }
    },
    {
      "cell_type": "code",
      "execution_count": 1,
      "metadata": {
        "id": "xocItpvXTuRY"
      },
      "outputs": [],
      "source": [
        "import numpy as np\n",
        "import pandas as pd\n",
        "from matplotlib import pyplot as plt\n",
        "import cv2\n",
        "import os, shutil\n",
        "import warnings\n",
        "warnings.filterwarnings('ignore')\n",
        "from tqdm import tqdm"
      ]
    },
    {
      "cell_type": "code",
      "source": [
        "import tensorflow as tf\n",
        "from tensorflow import keras\n",
        "from keras.preprocessing.image import ImageDataGenerator\n",
        "from keras import models, layers, optimizers\n",
        "from keras.preprocessing import image\n",
        "from keras.models import Sequential, load_model\n",
        "from keras.layers import Conv2D, MaxPooling2D, Flatten, Dense, Dropout, BatchNormalization\n",
        "from keras.callbacks import EarlyStopping, ModelCheckpoint, ReduceLROnPlateau"
      ],
      "metadata": {
        "id": "m22sktXTTwje"
      },
      "execution_count": 2,
      "outputs": []
    },
    {
      "cell_type": "markdown",
      "source": [
        "# **Defining the dataset**"
      ],
      "metadata": {
        "id": "LUL8nMvJpD4J"
      }
    },
    {
      "cell_type": "code",
      "source": [
        "train_path = '/content/drive/MyDrive/adult_child/train'\n",
        "test_path = '/content/drive/MyDrive/adult_child/test'"
      ],
      "metadata": {
        "id": "ggsh3fYeTyVm"
      },
      "execution_count": 3,
      "outputs": []
    },
    {
      "cell_type": "code",
      "source": [
        "image_categories = os.listdir('/content/drive/MyDrive/adult_child/train')"
      ],
      "metadata": {
        "id": "gqdmg3dPT0O3"
      },
      "execution_count": 4,
      "outputs": []
    },
    {
      "cell_type": "code",
      "source": [
        "train_datagen = ImageDataGenerator(rescale=1/255.,\n",
        "                                  horizontal_flip=True,\n",
        "                                  shear_range=0.2,\n",
        "                                  height_shift_range=0.2,\n",
        "                                  width_shift_range=0.2,\n",
        "                                  fill_mode='nearest')\n",
        "\n",
        "train = train_datagen.flow_from_directory(train_path,\n",
        "                                         batch_size=32,\n",
        "                                         target_size=(128,128),\n",
        "                                         class_mode='binary',\n",
        "                                         shuffle=True,\n",
        "                                         interpolation='nearest')"
      ],
      "metadata": {
        "colab": {
          "base_uri": "https://localhost:8080/"
        },
        "id": "wKxdMsp6T7B9",
        "outputId": "f1322baf-a31f-4ad7-ee43-47914e08dce5"
      },
      "execution_count": 6,
      "outputs": [
        {
          "output_type": "stream",
          "name": "stdout",
          "text": [
            "Found 680 images belonging to 2 classes.\n"
          ]
        }
      ]
    },
    {
      "cell_type": "code",
      "source": [
        "test_datagen = ImageDataGenerator(rescale=1/255.)\n",
        "\n",
        "test = test_datagen.flow_from_directory(test_path,\n",
        "                                        batch_size=32,\n",
        "                                        target_size=(128,128),\n",
        "                                        class_mode='binary',\n",
        "                                        shuffle=True,\n",
        "                                        interpolation='nearest')"
      ],
      "metadata": {
        "colab": {
          "base_uri": "https://localhost:8080/"
        },
        "id": "4VB__4F2UEMX",
        "outputId": "51faadb8-8e90-4adf-aea4-c534daa8b719"
      },
      "execution_count": 7,
      "outputs": [
        {
          "output_type": "stream",
          "name": "stdout",
          "text": [
            "Found 120 images belonging to 2 classes.\n"
          ]
        }
      ]
    },
    {
      "cell_type": "code",
      "source": [
        "class_map = dict([(v, k) for k, v in train.class_indices.items()])\n",
        "print(class_map)"
      ],
      "metadata": {
        "colab": {
          "base_uri": "https://localhost:8080/"
        },
        "id": "UClMcaqgVjgX",
        "outputId": "4028922f-cccd-45bc-90fa-9197364590bd"
      },
      "execution_count": 8,
      "outputs": [
        {
          "output_type": "stream",
          "name": "stdout",
          "text": [
            "{0: 'adults', 1: 'children'}\n"
          ]
        }
      ]
    },
    {
      "cell_type": "markdown",
      "source": [],
      "metadata": {
        "id": "mMoLPhbAorY2"
      }
    },
    {
      "cell_type": "markdown",
      "source": [
        "# **Defining a sequential model**"
      ],
      "metadata": {
        "id": "8Deeoq-jpHcp"
      }
    },
    {
      "cell_type": "code",
      "source": [
        "cnn = Sequential()\n",
        "\n",
        "cnn.add(Conv2D(filters=32,kernel_size=(3,3),activation='relu',input_shape=(128,128,3)))\n",
        "cnn.add(MaxPooling2D(pool_size=(2,2)))\n",
        "\n",
        "cnn.add(Conv2D(filters=64,kernel_size=(3,3),activation='relu'))\n",
        "cnn.add(MaxPooling2D(pool_size=(2,2)))\n",
        "\n",
        "cnn.add(Conv2D(filters=128,kernel_size=(3,3),activation='relu'))\n",
        "cnn.add(MaxPooling2D(pool_size=(2,2)))\n",
        "\n",
        "cnn.add(Flatten())\n",
        "\n",
        "cnn.add(Dense(units=64,activation='relu'))\n",
        "cnn.add(Dense(units=128,activation='relu'))\n",
        "cnn.add(Dense(units=1,activation='sigmoid'))\n",
        "cnn.compile(loss='binary_crossentropy',optimizer='adam',metrics='accuracy')\n",
        "cnn.summary()"
      ],
      "metadata": {
        "colab": {
          "base_uri": "https://localhost:8080/"
        },
        "id": "TArrHORxUMcL",
        "outputId": "ea59d498-f4d7-4205-ee36-dfb6d29f4665"
      },
      "execution_count": null,
      "outputs": [
        {
          "output_type": "stream",
          "name": "stdout",
          "text": [
            "Model: \"sequential\"\n",
            "_________________________________________________________________\n",
            " Layer (type)                Output Shape              Param #   \n",
            "=================================================================\n",
            " conv2d (Conv2D)             (None, 126, 126, 32)      896       \n",
            "                                                                 \n",
            " max_pooling2d (MaxPooling2D  (None, 63, 63, 32)       0         \n",
            " )                                                               \n",
            "                                                                 \n",
            " conv2d_1 (Conv2D)           (None, 61, 61, 64)        18496     \n",
            "                                                                 \n",
            " max_pooling2d_1 (MaxPooling  (None, 30, 30, 64)       0         \n",
            " 2D)                                                             \n",
            "                                                                 \n",
            " conv2d_2 (Conv2D)           (None, 28, 28, 128)       73856     \n",
            "                                                                 \n",
            " max_pooling2d_2 (MaxPooling  (None, 14, 14, 128)      0         \n",
            " 2D)                                                             \n",
            "                                                                 \n",
            " flatten (Flatten)           (None, 25088)             0         \n",
            "                                                                 \n",
            " dense (Dense)               (None, 64)                1605696   \n",
            "                                                                 \n",
            " dense_1 (Dense)             (None, 128)               8320      \n",
            "                                                                 \n",
            " dense_2 (Dense)             (None, 1)                 129       \n",
            "                                                                 \n",
            "=================================================================\n",
            "Total params: 1,707,393\n",
            "Trainable params: 1,707,393\n",
            "Non-trainable params: 0\n",
            "_________________________________________________________________\n"
          ]
        }
      ]
    },
    {
      "cell_type": "code",
      "source": [
        "reduce_lr = ReduceLROnPlateau(monitor='val_accuracy',patience=5,mode='max',verbose=1,min_lr=0.001,factor=0.1)\n",
        "model_checkpoint = ModelCheckpoint('checkpoint/',monitor='val_accuracy',mode='max',save_best_only=True,verbose=1)\n",
        "early_stopping = EarlyStopping(monitor='val_accuracy',mode='max',verbose=1,patience=90)\n",
        "\n",
        "r = cnn.fit(train,\n",
        "           epochs=100,\n",
        "           batch_size=32,\n",
        "           validation_data=test,\n",
        "           callbacks=[reduce_lr,model_checkpoint,early_stopping])"
      ],
      "metadata": {
        "colab": {
          "base_uri": "https://localhost:8080/"
        },
        "id": "I_KdAzOQUPfY",
        "outputId": "269299d2-fff3-48ed-9f84-b1e8bda214c1"
      },
      "execution_count": null,
      "outputs": [
        {
          "output_type": "stream",
          "name": "stdout",
          "text": [
            "Epoch 1/100\n",
            "22/22 [==============================] - ETA: 0s - loss: 0.7022 - accuracy: 0.4853 \n",
            "Epoch 1: val_accuracy improved from -inf to 0.54167, saving model to checkpoint/\n"
          ]
        },
        {
          "output_type": "stream",
          "name": "stderr",
          "text": [
            "WARNING:absl:Found untraced functions such as _jit_compiled_convolution_op, _jit_compiled_convolution_op, _jit_compiled_convolution_op while saving (showing 3 of 3). These functions will not be directly callable after loading.\n"
          ]
        },
        {
          "output_type": "stream",
          "name": "stdout",
          "text": [
            "\b\b\b\b\b\b\b\b\b\b\b\b\b\b\b\b\b\b\b\b\b\b\b\b\b\b\b\b\b\b\b\b\b\b\b\b\b\b\b\b\b\b\b\b\b\b\b\b\b\b\b\b\b\b\b\b\b\b\b\b\b\b\b\b\b\b\b\b\b\b\b\b\b\b\b\b\b\b\b\b\b\b\r22/22 [==============================] - 366s 16s/step - loss: 0.7022 - accuracy: 0.4853 - val_loss: 0.6758 - val_accuracy: 0.5417 - lr: 0.0010\n",
            "Epoch 2/100\n",
            "22/22 [==============================] - ETA: 0s - loss: 0.6907 - accuracy: 0.5132\n",
            "Epoch 2: val_accuracy improved from 0.54167 to 0.55833, saving model to checkpoint/\n"
          ]
        },
        {
          "output_type": "stream",
          "name": "stderr",
          "text": [
            "WARNING:absl:Found untraced functions such as _jit_compiled_convolution_op, _jit_compiled_convolution_op, _jit_compiled_convolution_op while saving (showing 3 of 3). These functions will not be directly callable after loading.\n"
          ]
        },
        {
          "output_type": "stream",
          "name": "stdout",
          "text": [
            "\b\b\b\b\b\b\b\b\b\b\b\b\b\b\b\b\b\b\b\b\b\b\b\b\b\b\b\b\b\b\b\b\b\b\b\b\b\b\b\b\b\b\b\b\b\b\b\b\b\b\b\b\b\b\b\b\b\b\b\b\b\b\b\b\b\b\b\b\b\b\b\b\b\b\b\b\b\b\b\b\b\b\r22/22 [==============================] - 6s 289ms/step - loss: 0.6907 - accuracy: 0.5132 - val_loss: 0.6745 - val_accuracy: 0.5583 - lr: 0.0010\n",
            "Epoch 3/100\n",
            "22/22 [==============================] - ETA: 0s - loss: 0.6710 - accuracy: 0.5853\n",
            "Epoch 3: val_accuracy improved from 0.55833 to 0.63333, saving model to checkpoint/\n"
          ]
        },
        {
          "output_type": "stream",
          "name": "stderr",
          "text": [
            "WARNING:absl:Found untraced functions such as _jit_compiled_convolution_op, _jit_compiled_convolution_op, _jit_compiled_convolution_op while saving (showing 3 of 3). These functions will not be directly callable after loading.\n"
          ]
        },
        {
          "output_type": "stream",
          "name": "stdout",
          "text": [
            "\b\b\b\b\b\b\b\b\b\b\b\b\b\b\b\b\b\b\b\b\b\b\b\b\b\b\b\b\b\b\b\b\b\b\b\b\b\b\b\b\b\b\b\b\b\b\b\b\b\b\b\b\b\b\b\b\b\b\b\b\b\b\b\b\b\b\b\b\b\b\b\b\b\b\b\b\b\b\b\b\b\b\r22/22 [==============================] - 6s 295ms/step - loss: 0.6710 - accuracy: 0.5853 - val_loss: 0.6592 - val_accuracy: 0.6333 - lr: 0.0010\n",
            "Epoch 4/100\n",
            "22/22 [==============================] - ETA: 0s - loss: 0.6682 - accuracy: 0.5809\n",
            "Epoch 4: val_accuracy did not improve from 0.63333\n",
            "22/22 [==============================] - 5s 246ms/step - loss: 0.6682 - accuracy: 0.5809 - val_loss: 0.6537 - val_accuracy: 0.5583 - lr: 0.0010\n",
            "Epoch 5/100\n",
            "22/22 [==============================] - ETA: 0s - loss: 0.6659 - accuracy: 0.5838\n",
            "Epoch 5: val_accuracy did not improve from 0.63333\n",
            "22/22 [==============================] - 5s 243ms/step - loss: 0.6659 - accuracy: 0.5838 - val_loss: 0.6567 - val_accuracy: 0.5917 - lr: 0.0010\n",
            "Epoch 6/100\n",
            "22/22 [==============================] - ETA: 0s - loss: 0.6725 - accuracy: 0.5559\n",
            "Epoch 6: val_accuracy did not improve from 0.63333\n",
            "22/22 [==============================] - 5s 245ms/step - loss: 0.6725 - accuracy: 0.5559 - val_loss: 0.6641 - val_accuracy: 0.5833 - lr: 0.0010\n",
            "Epoch 7/100\n",
            "22/22 [==============================] - ETA: 0s - loss: 0.6586 - accuracy: 0.6088\n",
            "Epoch 7: val_accuracy did not improve from 0.63333\n",
            "22/22 [==============================] - 5s 247ms/step - loss: 0.6586 - accuracy: 0.6088 - val_loss: 0.6946 - val_accuracy: 0.6250 - lr: 0.0010\n",
            "Epoch 8/100\n",
            "22/22 [==============================] - ETA: 0s - loss: 0.6660 - accuracy: 0.5971\n",
            "Epoch 8: val_accuracy did not improve from 0.63333\n",
            "22/22 [==============================] - 5s 245ms/step - loss: 0.6660 - accuracy: 0.5971 - val_loss: 0.6459 - val_accuracy: 0.5917 - lr: 0.0010\n",
            "Epoch 9/100\n",
            "22/22 [==============================] - ETA: 0s - loss: 0.6534 - accuracy: 0.6132\n",
            "Epoch 9: val_accuracy did not improve from 0.63333\n",
            "22/22 [==============================] - 5s 248ms/step - loss: 0.6534 - accuracy: 0.6132 - val_loss: 0.6529 - val_accuracy: 0.5833 - lr: 0.0010\n",
            "Epoch 10/100\n",
            "22/22 [==============================] - ETA: 0s - loss: 0.6459 - accuracy: 0.6221\n",
            "Epoch 10: val_accuracy did not improve from 0.63333\n",
            "22/22 [==============================] - 5s 247ms/step - loss: 0.6459 - accuracy: 0.6221 - val_loss: 0.6679 - val_accuracy: 0.6250 - lr: 0.0010\n",
            "Epoch 11/100\n",
            "22/22 [==============================] - ETA: 0s - loss: 0.6344 - accuracy: 0.6294\n",
            "Epoch 11: val_accuracy did not improve from 0.63333\n",
            "22/22 [==============================] - 5s 249ms/step - loss: 0.6344 - accuracy: 0.6294 - val_loss: 0.6492 - val_accuracy: 0.5417 - lr: 0.0010\n",
            "Epoch 12/100\n",
            "22/22 [==============================] - ETA: 0s - loss: 0.6317 - accuracy: 0.6412\n",
            "Epoch 12: val_accuracy did not improve from 0.63333\n",
            "22/22 [==============================] - 5s 245ms/step - loss: 0.6317 - accuracy: 0.6412 - val_loss: 0.7410 - val_accuracy: 0.6000 - lr: 0.0010\n",
            "Epoch 13/100\n",
            "22/22 [==============================] - ETA: 0s - loss: 0.6200 - accuracy: 0.6353\n",
            "Epoch 13: val_accuracy did not improve from 0.63333\n",
            "22/22 [==============================] - 5s 248ms/step - loss: 0.6200 - accuracy: 0.6353 - val_loss: 0.6396 - val_accuracy: 0.6083 - lr: 0.0010\n",
            "Epoch 14/100\n",
            "22/22 [==============================] - ETA: 0s - loss: 0.6307 - accuracy: 0.6309\n",
            "Epoch 14: val_accuracy did not improve from 0.63333\n",
            "22/22 [==============================] - 5s 244ms/step - loss: 0.6307 - accuracy: 0.6309 - val_loss: 0.6256 - val_accuracy: 0.6000 - lr: 0.0010\n",
            "Epoch 15/100\n",
            "22/22 [==============================] - ETA: 0s - loss: 0.6117 - accuracy: 0.6765\n",
            "Epoch 15: val_accuracy did not improve from 0.63333\n",
            "22/22 [==============================] - 5s 244ms/step - loss: 0.6117 - accuracy: 0.6765 - val_loss: 0.6759 - val_accuracy: 0.6167 - lr: 0.0010\n",
            "Epoch 16/100\n",
            "22/22 [==============================] - ETA: 0s - loss: 0.6339 - accuracy: 0.6265\n",
            "Epoch 16: val_accuracy improved from 0.63333 to 0.65833, saving model to checkpoint/\n"
          ]
        },
        {
          "output_type": "stream",
          "name": "stderr",
          "text": [
            "WARNING:absl:Found untraced functions such as _jit_compiled_convolution_op, _jit_compiled_convolution_op, _jit_compiled_convolution_op while saving (showing 3 of 3). These functions will not be directly callable after loading.\n"
          ]
        },
        {
          "output_type": "stream",
          "name": "stdout",
          "text": [
            "\b\b\b\b\b\b\b\b\b\b\b\b\b\b\b\b\b\b\b\b\b\b\b\b\b\b\b\b\b\b\b\b\b\b\b\b\b\b\b\b\b\b\b\b\b\b\b\b\b\b\b\b\b\b\b\b\b\b\b\b\b\b\b\b\b\b\b\b\b\b\b\b\b\b\b\b\b\b\b\b\b\b\r22/22 [==============================] - 6s 286ms/step - loss: 0.6339 - accuracy: 0.6265 - val_loss: 0.6307 - val_accuracy: 0.6583 - lr: 0.0010\n",
            "Epoch 17/100\n",
            "22/22 [==============================] - ETA: 0s - loss: 0.6330 - accuracy: 0.6471\n",
            "Epoch 17: val_accuracy did not improve from 0.65833\n",
            "22/22 [==============================] - 5s 246ms/step - loss: 0.6330 - accuracy: 0.6471 - val_loss: 0.6643 - val_accuracy: 0.5917 - lr: 0.0010\n",
            "Epoch 18/100\n",
            "22/22 [==============================] - ETA: 0s - loss: 0.6069 - accuracy: 0.6662\n",
            "Epoch 18: val_accuracy did not improve from 0.65833\n",
            "22/22 [==============================] - 6s 288ms/step - loss: 0.6069 - accuracy: 0.6662 - val_loss: 0.6838 - val_accuracy: 0.6333 - lr: 0.0010\n",
            "Epoch 19/100\n",
            "22/22 [==============================] - ETA: 0s - loss: 0.5964 - accuracy: 0.6691\n",
            "Epoch 19: val_accuracy did not improve from 0.65833\n",
            "22/22 [==============================] - 6s 265ms/step - loss: 0.5964 - accuracy: 0.6691 - val_loss: 0.6874 - val_accuracy: 0.6167 - lr: 0.0010\n",
            "Epoch 20/100\n",
            "22/22 [==============================] - ETA: 0s - loss: 0.5841 - accuracy: 0.6882\n",
            "Epoch 20: val_accuracy improved from 0.65833 to 0.66667, saving model to checkpoint/\n"
          ]
        },
        {
          "output_type": "stream",
          "name": "stderr",
          "text": [
            "WARNING:absl:Found untraced functions such as _jit_compiled_convolution_op, _jit_compiled_convolution_op, _jit_compiled_convolution_op while saving (showing 3 of 3). These functions will not be directly callable after loading.\n"
          ]
        },
        {
          "output_type": "stream",
          "name": "stdout",
          "text": [
            "\b\b\b\b\b\b\b\b\b\b\b\b\b\b\b\b\b\b\b\b\b\b\b\b\b\b\b\b\b\b\b\b\b\b\b\b\b\b\b\b\b\b\b\b\b\b\b\b\b\b\b\b\b\b\b\b\b\b\b\b\b\b\b\b\b\b\b\b\b\b\b\b\b\b\b\b\b\b\b\b\b\b\r22/22 [==============================] - 6s 288ms/step - loss: 0.5841 - accuracy: 0.6882 - val_loss: 0.7511 - val_accuracy: 0.6667 - lr: 0.0010\n",
            "Epoch 21/100\n",
            "22/22 [==============================] - ETA: 0s - loss: 0.5813 - accuracy: 0.6838\n",
            "Epoch 21: val_accuracy did not improve from 0.66667\n",
            "22/22 [==============================] - 5s 239ms/step - loss: 0.5813 - accuracy: 0.6838 - val_loss: 0.6768 - val_accuracy: 0.5750 - lr: 0.0010\n",
            "Epoch 22/100\n",
            "22/22 [==============================] - ETA: 0s - loss: 0.5978 - accuracy: 0.6750\n",
            "Epoch 22: val_accuracy did not improve from 0.66667\n",
            "22/22 [==============================] - 5s 241ms/step - loss: 0.5978 - accuracy: 0.6750 - val_loss: 0.7271 - val_accuracy: 0.6500 - lr: 0.0010\n",
            "Epoch 23/100\n",
            "22/22 [==============================] - ETA: 0s - loss: 0.5741 - accuracy: 0.6956\n",
            "Epoch 23: val_accuracy did not improve from 0.66667\n",
            "22/22 [==============================] - 5s 243ms/step - loss: 0.5741 - accuracy: 0.6956 - val_loss: 0.6877 - val_accuracy: 0.6500 - lr: 0.0010\n",
            "Epoch 24/100\n",
            "22/22 [==============================] - ETA: 0s - loss: 0.5970 - accuracy: 0.6985\n",
            "Epoch 24: val_accuracy did not improve from 0.66667\n",
            "22/22 [==============================] - 5s 239ms/step - loss: 0.5970 - accuracy: 0.6985 - val_loss: 0.6317 - val_accuracy: 0.6333 - lr: 0.0010\n",
            "Epoch 25/100\n",
            "22/22 [==============================] - ETA: 0s - loss: 0.5952 - accuracy: 0.6941\n",
            "Epoch 25: val_accuracy did not improve from 0.66667\n",
            "22/22 [==============================] - 5s 241ms/step - loss: 0.5952 - accuracy: 0.6941 - val_loss: 0.6796 - val_accuracy: 0.6333 - lr: 0.0010\n",
            "Epoch 26/100\n",
            "22/22 [==============================] - ETA: 0s - loss: 0.5627 - accuracy: 0.7235\n",
            "Epoch 26: val_accuracy did not improve from 0.66667\n",
            "22/22 [==============================] - 5s 242ms/step - loss: 0.5627 - accuracy: 0.7235 - val_loss: 0.7040 - val_accuracy: 0.6583 - lr: 0.0010\n",
            "Epoch 27/100\n",
            "22/22 [==============================] - ETA: 0s - loss: 0.5425 - accuracy: 0.7324\n",
            "Epoch 27: val_accuracy did not improve from 0.66667\n",
            "22/22 [==============================] - 5s 241ms/step - loss: 0.5425 - accuracy: 0.7324 - val_loss: 0.7414 - val_accuracy: 0.6500 - lr: 0.0010\n",
            "Epoch 28/100\n",
            "22/22 [==============================] - ETA: 0s - loss: 0.5779 - accuracy: 0.6897\n",
            "Epoch 28: val_accuracy did not improve from 0.66667\n",
            "22/22 [==============================] - 5s 250ms/step - loss: 0.5779 - accuracy: 0.6897 - val_loss: 0.7033 - val_accuracy: 0.6500 - lr: 0.0010\n",
            "Epoch 29/100\n",
            "22/22 [==============================] - ETA: 0s - loss: 0.5426 - accuracy: 0.7235\n",
            "Epoch 29: val_accuracy improved from 0.66667 to 0.67500, saving model to checkpoint/\n"
          ]
        },
        {
          "output_type": "stream",
          "name": "stderr",
          "text": [
            "WARNING:absl:Found untraced functions such as _jit_compiled_convolution_op, _jit_compiled_convolution_op, _jit_compiled_convolution_op while saving (showing 3 of 3). These functions will not be directly callable after loading.\n"
          ]
        },
        {
          "output_type": "stream",
          "name": "stdout",
          "text": [
            "\b\b\b\b\b\b\b\b\b\b\b\b\b\b\b\b\b\b\b\b\b\b\b\b\b\b\b\b\b\b\b\b\b\b\b\b\b\b\b\b\b\b\b\b\b\b\b\b\b\b\b\b\b\b\b\b\b\b\b\b\b\b\b\b\b\b\b\b\b\b\b\b\b\b\b\b\b\b\b\b\b\b\r22/22 [==============================] - 6s 286ms/step - loss: 0.5426 - accuracy: 0.7235 - val_loss: 0.8111 - val_accuracy: 0.6750 - lr: 0.0010\n",
            "Epoch 30/100\n",
            "22/22 [==============================] - ETA: 0s - loss: 0.5734 - accuracy: 0.6941\n",
            "Epoch 30: val_accuracy did not improve from 0.67500\n",
            "22/22 [==============================] - 5s 243ms/step - loss: 0.5734 - accuracy: 0.6941 - val_loss: 0.7588 - val_accuracy: 0.6250 - lr: 0.0010\n",
            "Epoch 31/100\n",
            "22/22 [==============================] - ETA: 0s - loss: 0.5718 - accuracy: 0.6985\n",
            "Epoch 31: val_accuracy did not improve from 0.67500\n",
            "22/22 [==============================] - 5s 242ms/step - loss: 0.5718 - accuracy: 0.6985 - val_loss: 0.6873 - val_accuracy: 0.6500 - lr: 0.0010\n",
            "Epoch 32/100\n",
            "22/22 [==============================] - ETA: 0s - loss: 0.5139 - accuracy: 0.7382\n",
            "Epoch 32: val_accuracy did not improve from 0.67500\n",
            "22/22 [==============================] - 5s 244ms/step - loss: 0.5139 - accuracy: 0.7382 - val_loss: 0.8856 - val_accuracy: 0.6250 - lr: 0.0010\n",
            "Epoch 33/100\n",
            "22/22 [==============================] - ETA: 0s - loss: 0.5838 - accuracy: 0.6971\n",
            "Epoch 33: val_accuracy did not improve from 0.67500\n",
            "22/22 [==============================] - 5s 251ms/step - loss: 0.5838 - accuracy: 0.6971 - val_loss: 0.7018 - val_accuracy: 0.6250 - lr: 0.0010\n",
            "Epoch 34/100\n",
            "22/22 [==============================] - ETA: 0s - loss: 0.5787 - accuracy: 0.7000\n",
            "Epoch 34: val_accuracy did not improve from 0.67500\n",
            "22/22 [==============================] - 5s 240ms/step - loss: 0.5787 - accuracy: 0.7000 - val_loss: 0.7582 - val_accuracy: 0.5833 - lr: 0.0010\n",
            "Epoch 35/100\n",
            "22/22 [==============================] - ETA: 0s - loss: 0.5370 - accuracy: 0.7162\n",
            "Epoch 35: val_accuracy did not improve from 0.67500\n",
            "22/22 [==============================] - 5s 242ms/step - loss: 0.5370 - accuracy: 0.7162 - val_loss: 0.7444 - val_accuracy: 0.6250 - lr: 0.0010\n",
            "Epoch 36/100\n",
            "22/22 [==============================] - ETA: 0s - loss: 0.5223 - accuracy: 0.7353\n",
            "Epoch 36: val_accuracy did not improve from 0.67500\n",
            "22/22 [==============================] - 5s 241ms/step - loss: 0.5223 - accuracy: 0.7353 - val_loss: 0.9379 - val_accuracy: 0.6250 - lr: 0.0010\n",
            "Epoch 37/100\n",
            "22/22 [==============================] - ETA: 0s - loss: 0.5132 - accuracy: 0.7176\n",
            "Epoch 37: val_accuracy improved from 0.67500 to 0.70000, saving model to checkpoint/\n"
          ]
        },
        {
          "output_type": "stream",
          "name": "stderr",
          "text": [
            "WARNING:absl:Found untraced functions such as _jit_compiled_convolution_op, _jit_compiled_convolution_op, _jit_compiled_convolution_op while saving (showing 3 of 3). These functions will not be directly callable after loading.\n"
          ]
        },
        {
          "output_type": "stream",
          "name": "stdout",
          "text": [
            "\b\b\b\b\b\b\b\b\b\b\b\b\b\b\b\b\b\b\b\b\b\b\b\b\b\b\b\b\b\b\b\b\b\b\b\b\b\b\b\b\b\b\b\b\b\b\b\b\b\b\b\b\b\b\b\b\b\b\b\b\b\b\b\b\b\b\b\b\b\b\b\b\b\b\b\b\b\b\b\b\b\b\r22/22 [==============================] - 6s 299ms/step - loss: 0.5132 - accuracy: 0.7176 - val_loss: 0.7825 - val_accuracy: 0.7000 - lr: 0.0010\n",
            "Epoch 38/100\n",
            "22/22 [==============================] - ETA: 0s - loss: 0.5280 - accuracy: 0.7279\n",
            "Epoch 38: val_accuracy did not improve from 0.70000\n",
            "22/22 [==============================] - 5s 244ms/step - loss: 0.5280 - accuracy: 0.7279 - val_loss: 0.8298 - val_accuracy: 0.6500 - lr: 0.0010\n",
            "Epoch 39/100\n",
            "22/22 [==============================] - ETA: 0s - loss: 0.5179 - accuracy: 0.7382\n",
            "Epoch 39: val_accuracy did not improve from 0.70000\n",
            "22/22 [==============================] - 5s 244ms/step - loss: 0.5179 - accuracy: 0.7382 - val_loss: 0.8897 - val_accuracy: 0.6333 - lr: 0.0010\n",
            "Epoch 40/100\n",
            "22/22 [==============================] - ETA: 0s - loss: 0.5309 - accuracy: 0.7235\n",
            "Epoch 40: val_accuracy did not improve from 0.70000\n",
            "22/22 [==============================] - 5s 243ms/step - loss: 0.5309 - accuracy: 0.7235 - val_loss: 0.9558 - val_accuracy: 0.6167 - lr: 0.0010\n",
            "Epoch 41/100\n",
            "22/22 [==============================] - ETA: 0s - loss: 0.4977 - accuracy: 0.7500\n",
            "Epoch 41: val_accuracy did not improve from 0.70000\n",
            "22/22 [==============================] - 5s 245ms/step - loss: 0.4977 - accuracy: 0.7500 - val_loss: 0.7667 - val_accuracy: 0.6167 - lr: 0.0010\n",
            "Epoch 42/100\n",
            "22/22 [==============================] - ETA: 0s - loss: 0.5004 - accuracy: 0.7647\n",
            "Epoch 42: val_accuracy did not improve from 0.70000\n",
            "22/22 [==============================] - 5s 242ms/step - loss: 0.5004 - accuracy: 0.7647 - val_loss: 0.7222 - val_accuracy: 0.6833 - lr: 0.0010\n",
            "Epoch 43/100\n",
            "22/22 [==============================] - ETA: 0s - loss: 0.4912 - accuracy: 0.7588\n",
            "Epoch 43: val_accuracy did not improve from 0.70000\n",
            "22/22 [==============================] - 5s 240ms/step - loss: 0.4912 - accuracy: 0.7588 - val_loss: 0.7740 - val_accuracy: 0.6917 - lr: 0.0010\n",
            "Epoch 44/100\n",
            "22/22 [==============================] - ETA: 0s - loss: 0.5054 - accuracy: 0.7515\n",
            "Epoch 44: val_accuracy did not improve from 0.70000\n",
            "22/22 [==============================] - 5s 240ms/step - loss: 0.5054 - accuracy: 0.7515 - val_loss: 0.8235 - val_accuracy: 0.6583 - lr: 0.0010\n",
            "Epoch 45/100\n",
            "22/22 [==============================] - ETA: 0s - loss: 0.4819 - accuracy: 0.7676\n",
            "Epoch 45: val_accuracy did not improve from 0.70000\n",
            "22/22 [==============================] - 5s 238ms/step - loss: 0.4819 - accuracy: 0.7676 - val_loss: 0.8247 - val_accuracy: 0.6500 - lr: 0.0010\n",
            "Epoch 46/100\n",
            "22/22 [==============================] - ETA: 0s - loss: 0.4716 - accuracy: 0.7779\n",
            "Epoch 46: val_accuracy did not improve from 0.70000\n",
            "22/22 [==============================] - 5s 239ms/step - loss: 0.4716 - accuracy: 0.7779 - val_loss: 0.8916 - val_accuracy: 0.6167 - lr: 0.0010\n",
            "Epoch 47/100\n",
            "22/22 [==============================] - ETA: 0s - loss: 0.4583 - accuracy: 0.7750\n",
            "Epoch 47: val_accuracy did not improve from 0.70000\n",
            "22/22 [==============================] - 5s 239ms/step - loss: 0.4583 - accuracy: 0.7750 - val_loss: 0.8515 - val_accuracy: 0.6167 - lr: 0.0010\n",
            "Epoch 48/100\n",
            "22/22 [==============================] - ETA: 0s - loss: 0.4837 - accuracy: 0.7588\n",
            "Epoch 48: val_accuracy did not improve from 0.70000\n",
            "22/22 [==============================] - 5s 238ms/step - loss: 0.4837 - accuracy: 0.7588 - val_loss: 0.7700 - val_accuracy: 0.7000 - lr: 0.0010\n",
            "Epoch 49/100\n",
            "22/22 [==============================] - ETA: 0s - loss: 0.4628 - accuracy: 0.7868\n",
            "Epoch 49: val_accuracy did not improve from 0.70000\n",
            "22/22 [==============================] - 5s 243ms/step - loss: 0.4628 - accuracy: 0.7868 - val_loss: 0.8512 - val_accuracy: 0.6833 - lr: 0.0010\n",
            "Epoch 50/100\n",
            "22/22 [==============================] - ETA: 0s - loss: 0.4424 - accuracy: 0.7956\n",
            "Epoch 50: val_accuracy did not improve from 0.70000\n",
            "22/22 [==============================] - 5s 241ms/step - loss: 0.4424 - accuracy: 0.7956 - val_loss: 0.7877 - val_accuracy: 0.6750 - lr: 0.0010\n",
            "Epoch 51/100\n",
            "22/22 [==============================] - ETA: 0s - loss: 0.4483 - accuracy: 0.7794\n",
            "Epoch 51: val_accuracy did not improve from 0.70000\n",
            "22/22 [==============================] - 5s 242ms/step - loss: 0.4483 - accuracy: 0.7794 - val_loss: 0.9394 - val_accuracy: 0.6750 - lr: 0.0010\n",
            "Epoch 52/100\n",
            "22/22 [==============================] - ETA: 0s - loss: 0.4314 - accuracy: 0.8088\n",
            "Epoch 52: val_accuracy did not improve from 0.70000\n",
            "22/22 [==============================] - 5s 245ms/step - loss: 0.4314 - accuracy: 0.8088 - val_loss: 0.8379 - val_accuracy: 0.6667 - lr: 0.0010\n",
            "Epoch 53/100\n",
            "22/22 [==============================] - ETA: 0s - loss: 0.4503 - accuracy: 0.7779\n",
            "Epoch 53: val_accuracy did not improve from 0.70000\n",
            "22/22 [==============================] - 5s 244ms/step - loss: 0.4503 - accuracy: 0.7779 - val_loss: 0.7470 - val_accuracy: 0.6333 - lr: 0.0010\n",
            "Epoch 54/100\n",
            "22/22 [==============================] - ETA: 0s - loss: 0.4211 - accuracy: 0.8118\n",
            "Epoch 54: val_accuracy did not improve from 0.70000\n",
            "22/22 [==============================] - 5s 244ms/step - loss: 0.4211 - accuracy: 0.8118 - val_loss: 0.7567 - val_accuracy: 0.6917 - lr: 0.0010\n",
            "Epoch 55/100\n",
            "22/22 [==============================] - ETA: 0s - loss: 0.4124 - accuracy: 0.7853\n",
            "Epoch 55: val_accuracy did not improve from 0.70000\n",
            "22/22 [==============================] - 5s 242ms/step - loss: 0.4124 - accuracy: 0.7853 - val_loss: 0.9602 - val_accuracy: 0.6750 - lr: 0.0010\n",
            "Epoch 56/100\n",
            "22/22 [==============================] - ETA: 0s - loss: 0.4078 - accuracy: 0.8147\n",
            "Epoch 56: val_accuracy did not improve from 0.70000\n",
            "22/22 [==============================] - 5s 242ms/step - loss: 0.4078 - accuracy: 0.8147 - val_loss: 1.2210 - val_accuracy: 0.5667 - lr: 0.0010\n",
            "Epoch 57/100\n",
            "22/22 [==============================] - ETA: 0s - loss: 0.4209 - accuracy: 0.7926\n",
            "Epoch 57: val_accuracy did not improve from 0.70000\n",
            "22/22 [==============================] - 5s 242ms/step - loss: 0.4209 - accuracy: 0.7926 - val_loss: 1.0729 - val_accuracy: 0.5833 - lr: 0.0010\n",
            "Epoch 58/100\n",
            "22/22 [==============================] - ETA: 0s - loss: 0.4250 - accuracy: 0.7897\n",
            "Epoch 58: val_accuracy did not improve from 0.70000\n",
            "22/22 [==============================] - 5s 242ms/step - loss: 0.4250 - accuracy: 0.7897 - val_loss: 1.0583 - val_accuracy: 0.6833 - lr: 0.0010\n",
            "Epoch 59/100\n",
            "22/22 [==============================] - ETA: 0s - loss: 0.3942 - accuracy: 0.8206\n",
            "Epoch 59: val_accuracy did not improve from 0.70000\n",
            "22/22 [==============================] - 5s 247ms/step - loss: 0.3942 - accuracy: 0.8206 - val_loss: 1.3300 - val_accuracy: 0.6167 - lr: 0.0010\n",
            "Epoch 60/100\n",
            "22/22 [==============================] - ETA: 0s - loss: 0.4379 - accuracy: 0.7838\n",
            "Epoch 60: val_accuracy did not improve from 0.70000\n",
            "22/22 [==============================] - 5s 241ms/step - loss: 0.4379 - accuracy: 0.7838 - val_loss: 0.8886 - val_accuracy: 0.6500 - lr: 0.0010\n",
            "Epoch 61/100\n",
            "22/22 [==============================] - ETA: 0s - loss: 0.4263 - accuracy: 0.8074\n",
            "Epoch 61: val_accuracy did not improve from 0.70000\n",
            "22/22 [==============================] - 5s 245ms/step - loss: 0.4263 - accuracy: 0.8074 - val_loss: 0.8291 - val_accuracy: 0.7000 - lr: 0.0010\n",
            "Epoch 62/100\n",
            "22/22 [==============================] - ETA: 0s - loss: 0.4370 - accuracy: 0.8029\n",
            "Epoch 62: val_accuracy did not improve from 0.70000\n",
            "22/22 [==============================] - 5s 242ms/step - loss: 0.4370 - accuracy: 0.8029 - val_loss: 0.9186 - val_accuracy: 0.6667 - lr: 0.0010\n",
            "Epoch 63/100\n",
            "22/22 [==============================] - ETA: 0s - loss: 0.3942 - accuracy: 0.8029\n",
            "Epoch 63: val_accuracy improved from 0.70000 to 0.71667, saving model to checkpoint/\n"
          ]
        },
        {
          "output_type": "stream",
          "name": "stderr",
          "text": [
            "WARNING:absl:Found untraced functions such as _jit_compiled_convolution_op, _jit_compiled_convolution_op, _jit_compiled_convolution_op while saving (showing 3 of 3). These functions will not be directly callable after loading.\n"
          ]
        },
        {
          "output_type": "stream",
          "name": "stdout",
          "text": [
            "\b\b\b\b\b\b\b\b\b\b\b\b\b\b\b\b\b\b\b\b\b\b\b\b\b\b\b\b\b\b\b\b\b\b\b\b\b\b\b\b\b\b\b\b\b\b\b\b\b\b\b\b\b\b\b\b\b\b\b\b\b\b\b\b\b\b\b\b\b\b\b\b\b\b\b\b\b\b\b\b\b\b\r22/22 [==============================] - 7s 301ms/step - loss: 0.3942 - accuracy: 0.8029 - val_loss: 0.8321 - val_accuracy: 0.7167 - lr: 0.0010\n",
            "Epoch 64/100\n",
            "22/22 [==============================] - ETA: 0s - loss: 0.3872 - accuracy: 0.8338\n",
            "Epoch 64: val_accuracy did not improve from 0.71667\n",
            "22/22 [==============================] - 5s 243ms/step - loss: 0.3872 - accuracy: 0.8338 - val_loss: 0.9059 - val_accuracy: 0.7167 - lr: 0.0010\n",
            "Epoch 65/100\n",
            "22/22 [==============================] - ETA: 0s - loss: 0.4029 - accuracy: 0.8029\n",
            "Epoch 65: val_accuracy did not improve from 0.71667\n",
            "22/22 [==============================] - 7s 299ms/step - loss: 0.4029 - accuracy: 0.8029 - val_loss: 0.9127 - val_accuracy: 0.6333 - lr: 0.0010\n",
            "Epoch 66/100\n",
            "22/22 [==============================] - ETA: 0s - loss: 0.3930 - accuracy: 0.8103\n",
            "Epoch 66: val_accuracy did not improve from 0.71667\n",
            "22/22 [==============================] - 5s 245ms/step - loss: 0.3930 - accuracy: 0.8103 - val_loss: 0.8277 - val_accuracy: 0.7083 - lr: 0.0010\n",
            "Epoch 67/100\n",
            "22/22 [==============================] - ETA: 0s - loss: 0.4208 - accuracy: 0.8029\n",
            "Epoch 67: val_accuracy did not improve from 0.71667\n",
            "22/22 [==============================] - 5s 239ms/step - loss: 0.4208 - accuracy: 0.8029 - val_loss: 0.8420 - val_accuracy: 0.7083 - lr: 0.0010\n",
            "Epoch 68/100\n",
            "22/22 [==============================] - ETA: 0s - loss: 0.3833 - accuracy: 0.8294\n",
            "Epoch 68: val_accuracy did not improve from 0.71667\n",
            "22/22 [==============================] - 5s 244ms/step - loss: 0.3833 - accuracy: 0.8294 - val_loss: 1.1389 - val_accuracy: 0.6500 - lr: 0.0010\n",
            "Epoch 69/100\n",
            "22/22 [==============================] - ETA: 0s - loss: 0.3562 - accuracy: 0.8294\n",
            "Epoch 69: val_accuracy did not improve from 0.71667\n",
            "22/22 [==============================] - 5s 245ms/step - loss: 0.3562 - accuracy: 0.8294 - val_loss: 1.0383 - val_accuracy: 0.7083 - lr: 0.0010\n",
            "Epoch 70/100\n",
            "22/22 [==============================] - ETA: 0s - loss: 0.3291 - accuracy: 0.8574\n",
            "Epoch 70: val_accuracy did not improve from 0.71667\n",
            "22/22 [==============================] - 5s 246ms/step - loss: 0.3291 - accuracy: 0.8574 - val_loss: 1.1051 - val_accuracy: 0.6833 - lr: 0.0010\n",
            "Epoch 71/100\n",
            "22/22 [==============================] - ETA: 0s - loss: 0.2957 - accuracy: 0.8824\n",
            "Epoch 71: val_accuracy did not improve from 0.71667\n",
            "22/22 [==============================] - 6s 256ms/step - loss: 0.2957 - accuracy: 0.8824 - val_loss: 1.0333 - val_accuracy: 0.6833 - lr: 0.0010\n",
            "Epoch 72/100\n",
            "22/22 [==============================] - ETA: 0s - loss: 0.3925 - accuracy: 0.8235\n",
            "Epoch 72: val_accuracy did not improve from 0.71667\n",
            "22/22 [==============================] - 6s 253ms/step - loss: 0.3925 - accuracy: 0.8235 - val_loss: 0.9481 - val_accuracy: 0.6667 - lr: 0.0010\n",
            "Epoch 73/100\n",
            "22/22 [==============================] - ETA: 0s - loss: 0.3538 - accuracy: 0.8397\n",
            "Epoch 73: val_accuracy did not improve from 0.71667\n",
            "22/22 [==============================] - 5s 248ms/step - loss: 0.3538 - accuracy: 0.8397 - val_loss: 0.9640 - val_accuracy: 0.6583 - lr: 0.0010\n",
            "Epoch 74/100\n",
            "22/22 [==============================] - ETA: 0s - loss: 0.3720 - accuracy: 0.8368\n",
            "Epoch 74: val_accuracy did not improve from 0.71667\n",
            "22/22 [==============================] - 5s 246ms/step - loss: 0.3720 - accuracy: 0.8368 - val_loss: 0.8348 - val_accuracy: 0.7083 - lr: 0.0010\n",
            "Epoch 75/100\n",
            "22/22 [==============================] - ETA: 0s - loss: 0.3610 - accuracy: 0.8397\n",
            "Epoch 75: val_accuracy did not improve from 0.71667\n",
            "22/22 [==============================] - 5s 243ms/step - loss: 0.3610 - accuracy: 0.8397 - val_loss: 0.9406 - val_accuracy: 0.7000 - lr: 0.0010\n",
            "Epoch 76/100\n",
            "22/22 [==============================] - ETA: 0s - loss: 0.3486 - accuracy: 0.8456\n",
            "Epoch 76: val_accuracy did not improve from 0.71667\n",
            "22/22 [==============================] - 5s 244ms/step - loss: 0.3486 - accuracy: 0.8456 - val_loss: 1.0148 - val_accuracy: 0.6583 - lr: 0.0010\n",
            "Epoch 77/100\n",
            "22/22 [==============================] - ETA: 0s - loss: 0.3450 - accuracy: 0.8456\n",
            "Epoch 77: val_accuracy did not improve from 0.71667\n",
            "22/22 [==============================] - 5s 245ms/step - loss: 0.3450 - accuracy: 0.8456 - val_loss: 0.9135 - val_accuracy: 0.6750 - lr: 0.0010\n",
            "Epoch 78/100\n",
            "22/22 [==============================] - ETA: 0s - loss: 0.2991 - accuracy: 0.8735\n",
            "Epoch 78: val_accuracy did not improve from 0.71667\n",
            "22/22 [==============================] - 5s 245ms/step - loss: 0.2991 - accuracy: 0.8735 - val_loss: 1.1548 - val_accuracy: 0.7083 - lr: 0.0010\n",
            "Epoch 79/100\n",
            "22/22 [==============================] - ETA: 0s - loss: 0.3115 - accuracy: 0.8706\n",
            "Epoch 79: val_accuracy did not improve from 0.71667\n",
            "22/22 [==============================] - 5s 249ms/step - loss: 0.3115 - accuracy: 0.8706 - val_loss: 1.0074 - val_accuracy: 0.7000 - lr: 0.0010\n",
            "Epoch 80/100\n",
            "22/22 [==============================] - ETA: 0s - loss: 0.2949 - accuracy: 0.8721\n",
            "Epoch 80: val_accuracy did not improve from 0.71667\n",
            "22/22 [==============================] - 5s 249ms/step - loss: 0.2949 - accuracy: 0.8721 - val_loss: 0.9094 - val_accuracy: 0.7000 - lr: 0.0010\n",
            "Epoch 81/100\n",
            "22/22 [==============================] - ETA: 0s - loss: 0.3382 - accuracy: 0.8529\n",
            "Epoch 81: val_accuracy did not improve from 0.71667\n",
            "22/22 [==============================] - 5s 249ms/step - loss: 0.3382 - accuracy: 0.8529 - val_loss: 0.9802 - val_accuracy: 0.6667 - lr: 0.0010\n",
            "Epoch 82/100\n",
            "22/22 [==============================] - ETA: 0s - loss: 0.3581 - accuracy: 0.8235\n",
            "Epoch 82: val_accuracy did not improve from 0.71667\n",
            "22/22 [==============================] - 5s 249ms/step - loss: 0.3581 - accuracy: 0.8235 - val_loss: 0.7086 - val_accuracy: 0.6750 - lr: 0.0010\n",
            "Epoch 83/100\n",
            "22/22 [==============================] - ETA: 0s - loss: 0.3178 - accuracy: 0.8574\n",
            "Epoch 83: val_accuracy did not improve from 0.71667\n",
            "22/22 [==============================] - 5s 245ms/step - loss: 0.3178 - accuracy: 0.8574 - val_loss: 0.9800 - val_accuracy: 0.6750 - lr: 0.0010\n",
            "Epoch 84/100\n",
            "22/22 [==============================] - ETA: 0s - loss: 0.2857 - accuracy: 0.8765\n",
            "Epoch 84: val_accuracy did not improve from 0.71667\n",
            "22/22 [==============================] - 5s 243ms/step - loss: 0.2857 - accuracy: 0.8765 - val_loss: 1.0649 - val_accuracy: 0.6917 - lr: 0.0010\n",
            "Epoch 85/100\n",
            "22/22 [==============================] - ETA: 0s - loss: 0.3034 - accuracy: 0.8662\n",
            "Epoch 85: val_accuracy did not improve from 0.71667\n",
            "22/22 [==============================] - 5s 246ms/step - loss: 0.3034 - accuracy: 0.8662 - val_loss: 0.9438 - val_accuracy: 0.6667 - lr: 0.0010\n",
            "Epoch 86/100\n",
            "22/22 [==============================] - ETA: 0s - loss: 0.3162 - accuracy: 0.8588\n",
            "Epoch 86: val_accuracy did not improve from 0.71667\n",
            "22/22 [==============================] - 5s 244ms/step - loss: 0.3162 - accuracy: 0.8588 - val_loss: 1.1665 - val_accuracy: 0.6667 - lr: 0.0010\n",
            "Epoch 87/100\n",
            "22/22 [==============================] - ETA: 0s - loss: 0.3220 - accuracy: 0.8632\n",
            "Epoch 87: val_accuracy did not improve from 0.71667\n",
            "22/22 [==============================] - 5s 242ms/step - loss: 0.3220 - accuracy: 0.8632 - val_loss: 0.9177 - val_accuracy: 0.6833 - lr: 0.0010\n",
            "Epoch 88/100\n",
            "22/22 [==============================] - ETA: 0s - loss: 0.2890 - accuracy: 0.8838\n",
            "Epoch 88: val_accuracy did not improve from 0.71667\n",
            "22/22 [==============================] - 5s 239ms/step - loss: 0.2890 - accuracy: 0.8838 - val_loss: 1.2414 - val_accuracy: 0.7167 - lr: 0.0010\n",
            "Epoch 89/100\n",
            "22/22 [==============================] - ETA: 0s - loss: 0.3009 - accuracy: 0.8647\n",
            "Epoch 89: val_accuracy did not improve from 0.71667\n",
            "22/22 [==============================] - 5s 240ms/step - loss: 0.3009 - accuracy: 0.8647 - val_loss: 1.0617 - val_accuracy: 0.7083 - lr: 0.0010\n",
            "Epoch 90/100\n",
            "22/22 [==============================] - ETA: 0s - loss: 0.2855 - accuracy: 0.8735\n",
            "Epoch 90: val_accuracy did not improve from 0.71667\n",
            "22/22 [==============================] - 5s 239ms/step - loss: 0.2855 - accuracy: 0.8735 - val_loss: 1.2696 - val_accuracy: 0.6500 - lr: 0.0010\n",
            "Epoch 91/100\n",
            "22/22 [==============================] - ETA: 0s - loss: 0.3111 - accuracy: 0.8647\n",
            "Epoch 91: val_accuracy did not improve from 0.71667\n",
            "22/22 [==============================] - 5s 241ms/step - loss: 0.3111 - accuracy: 0.8647 - val_loss: 1.0133 - val_accuracy: 0.6417 - lr: 0.0010\n",
            "Epoch 92/100\n",
            "22/22 [==============================] - ETA: 0s - loss: 0.2545 - accuracy: 0.9029\n",
            "Epoch 92: val_accuracy improved from 0.71667 to 0.73333, saving model to checkpoint/\n"
          ]
        },
        {
          "output_type": "stream",
          "name": "stderr",
          "text": [
            "WARNING:absl:Found untraced functions such as _jit_compiled_convolution_op, _jit_compiled_convolution_op, _jit_compiled_convolution_op while saving (showing 3 of 3). These functions will not be directly callable after loading.\n"
          ]
        },
        {
          "output_type": "stream",
          "name": "stdout",
          "text": [
            "\b\b\b\b\b\b\b\b\b\b\b\b\b\b\b\b\b\b\b\b\b\b\b\b\b\b\b\b\b\b\b\b\b\b\b\b\b\b\b\b\b\b\b\b\b\b\b\b\b\b\b\b\b\b\b\b\b\b\b\b\b\b\b\b\b\b\b\b\b\b\b\b\b\b\b\b\b\b\b\b\b\b\r22/22 [==============================] - 6s 286ms/step - loss: 0.2545 - accuracy: 0.9029 - val_loss: 1.0883 - val_accuracy: 0.7333 - lr: 0.0010\n",
            "Epoch 93/100\n",
            "22/22 [==============================] - ETA: 0s - loss: 0.2352 - accuracy: 0.9000\n",
            "Epoch 93: val_accuracy did not improve from 0.73333\n",
            "22/22 [==============================] - 5s 242ms/step - loss: 0.2352 - accuracy: 0.9000 - val_loss: 1.1782 - val_accuracy: 0.7167 - lr: 0.0010\n",
            "Epoch 94/100\n",
            "22/22 [==============================] - ETA: 0s - loss: 0.2616 - accuracy: 0.8926\n",
            "Epoch 94: val_accuracy did not improve from 0.73333\n",
            "22/22 [==============================] - 10s 477ms/step - loss: 0.2616 - accuracy: 0.8926 - val_loss: 1.1379 - val_accuracy: 0.6750 - lr: 0.0010\n",
            "Epoch 95/100\n",
            "22/22 [==============================] - ETA: 0s - loss: 0.2932 - accuracy: 0.8794\n",
            "Epoch 95: val_accuracy improved from 0.73333 to 0.77500, saving model to checkpoint/\n"
          ]
        },
        {
          "output_type": "stream",
          "name": "stderr",
          "text": [
            "WARNING:absl:Found untraced functions such as _jit_compiled_convolution_op, _jit_compiled_convolution_op, _jit_compiled_convolution_op while saving (showing 3 of 3). These functions will not be directly callable after loading.\n"
          ]
        },
        {
          "output_type": "stream",
          "name": "stdout",
          "text": [
            "\b\b\b\b\b\b\b\b\b\b\b\b\b\b\b\b\b\b\b\b\b\b\b\b\b\b\b\b\b\b\b\b\b\b\b\b\b\b\b\b\b\b\b\b\b\b\b\b\b\b\b\b\b\b\b\b\b\b\b\b\b\b\b\b\b\b\b\b\b\b\b\b\b\b\b\b\b\b\b\b\b\b\r22/22 [==============================] - 7s 313ms/step - loss: 0.2932 - accuracy: 0.8794 - val_loss: 1.0105 - val_accuracy: 0.7750 - lr: 0.0010\n",
            "Epoch 96/100\n",
            "22/22 [==============================] - ETA: 0s - loss: 0.2510 - accuracy: 0.8941\n",
            "Epoch 96: val_accuracy did not improve from 0.77500\n",
            "22/22 [==============================] - 5s 240ms/step - loss: 0.2510 - accuracy: 0.8941 - val_loss: 1.2095 - val_accuracy: 0.7000 - lr: 0.0010\n",
            "Epoch 97/100\n",
            "22/22 [==============================] - ETA: 0s - loss: 0.2800 - accuracy: 0.8721\n",
            "Epoch 97: val_accuracy did not improve from 0.77500\n",
            "22/22 [==============================] - 7s 312ms/step - loss: 0.2800 - accuracy: 0.8721 - val_loss: 1.0665 - val_accuracy: 0.7167 - lr: 0.0010\n",
            "Epoch 98/100\n",
            "22/22 [==============================] - ETA: 0s - loss: 0.2218 - accuracy: 0.9059\n",
            "Epoch 98: val_accuracy did not improve from 0.77500\n",
            "22/22 [==============================] - 7s 288ms/step - loss: 0.2218 - accuracy: 0.9059 - val_loss: 1.3288 - val_accuracy: 0.6833 - lr: 0.0010\n",
            "Epoch 99/100\n",
            "22/22 [==============================] - ETA: 0s - loss: 0.2616 - accuracy: 0.8956\n",
            "Epoch 99: val_accuracy did not improve from 0.77500\n",
            "22/22 [==============================] - 5s 245ms/step - loss: 0.2616 - accuracy: 0.8956 - val_loss: 1.2622 - val_accuracy: 0.7000 - lr: 0.0010\n",
            "Epoch 100/100\n",
            "22/22 [==============================] - ETA: 0s - loss: 0.2929 - accuracy: 0.8588\n",
            "Epoch 100: val_accuracy did not improve from 0.77500\n",
            "22/22 [==============================] - 5s 244ms/step - loss: 0.2929 - accuracy: 0.8588 - val_loss: 1.3055 - val_accuracy: 0.7083 - lr: 0.0010\n"
          ]
        }
      ]
    },
    {
      "cell_type": "code",
      "source": [
        "h = r.history\n",
        "plt.style.use('ggplot')\n",
        "plt.figure(figsize=(10, 5))\n",
        "plt.plot(h['loss'], c='red', label='Training Loss')\n",
        "plt.plot(h['val_loss'], c='red', linestyle='--', label='Validation Loss')\n",
        "plt.plot(h['accuracy'], c='blue', label='Training Accuracy')\n",
        "plt.plot(h['val_accuracy'], c='blue', linestyle='--', label='Validation Accuracy')\n",
        "plt.xlabel(\"Number of Epochs\")\n",
        "plt.legend(loc='best')\n",
        "plt.show()"
      ],
      "metadata": {
        "colab": {
          "base_uri": "https://localhost:8080/",
          "height": 337
        },
        "id": "lDG3uGZkYKh7",
        "outputId": "d1676978-f447-46c2-b4cb-c435a954fda3"
      },
      "execution_count": null,
      "outputs": [
        {
          "output_type": "display_data",
          "data": {
            "text/plain": [
              "<Figure size 720x360 with 1 Axes>"
            ],
            "image/png": "[encoded data removed]"
          },
          "metadata": {}
        }
      ]
    },
    {
      "cell_type": "code",
      "source": [
        "cnn.save('/content/drive/MyDrive/adult_child/children_adult_classifier.h5')\n"
      ],
      "metadata": {
        "colab": {
          "base_uri": "https://localhost:8080/"
        },
        "id": "6JtNoMd5YZXj",
        "outputId": "4e6e126d-3d8e-4133-f211-d70525d80775"
      },
      "execution_count": null,
      "outputs": [
        {
          "output_type": "execute_result",
          "data": {
            "text/plain": [
              "<keras.engine.sequential.Sequential at 0x7f88801f1e80>"
            ]
          },
          "metadata": {},
          "execution_count": 12
        }
      ]
    },
    {
      "cell_type": "markdown",
      "source": [
        "# **Using pre-trained VGG16 model**"
      ],
      "metadata": {
        "id": "Q3Mz1pLVpQn1"
      }
    },
    {
      "cell_type": "code",
      "source": [
        "from keras.applications import VGG16\n",
        "conv_base = VGG16(\n",
        "                    weights = 'imagenet',\n",
        "                    include_top = False,\n",
        "                    input_shape = (150,150,3)\n",
        "                 )\n"
      ],
      "metadata": {
        "colab": {
          "base_uri": "https://localhost:8080/"
        },
        "id": "pbkWJaB2Q2lF",
        "outputId": "e1bffc27-0a99-4af4-b2c7-29111c3a4111"
      },
      "execution_count": null,
      "outputs": [
        {
          "output_type": "stream",
          "name": "stdout",
          "text": [
            "Downloading data from https://storage.googleapis.com/tensorflow/keras-applications/vgg16/vgg16_weights_tf_dim_ordering_tf_kernels_notop.h5\n",
            "58889256/58889256 [==============================] - 0s 0us/step\n"
          ]
        }
      ]
    },
    {
      "cell_type": "code",
      "source": [
        "model = Sequential()\n",
        "model.add(conv_base)\n",
        "model.add(layers.Flatten())\n",
        "model.add(layers.Dense(256, activation='relu'))\n",
        "model.add(layers.Dense(1, activation='sigmoid'))"
      ],
      "metadata": {
        "id": "y4mCTtopRTwy"
      },
      "execution_count": null,
      "outputs": []
    },
    {
      "cell_type": "code",
      "source": [
        "model.compile(\n",
        "  loss = \"binary_crossentropy\",\n",
        "  optimizer = tf.keras.optimizers.RMSprop(lr = 2e-5),\n",
        "  metrics = [\"accuracy\"]\n",
        ")\n",
        "\n",
        "history = model.fit_generator(\n",
        "  train,\n",
        "  steps_per_epoch = 15,\n",
        "  epochs = 30,\n",
        "  validation_data = test,\n",
        "  validation_steps = 1\n",
        ")"
      ],
      "metadata": {
        "colab": {
          "base_uri": "https://localhost:8080/"
        },
        "id": "d2gT-GIbRYuC",
        "outputId": "43aafb3f-030f-4d7d-b5aa-d2cd236c0b66"
      },
      "execution_count": null,
      "outputs": [
        {
          "output_type": "stream",
          "name": "stdout",
          "text": [
            "Epoch 1/30\n",
            "15/15 [==============================] - 6s 291ms/step - loss: 0.5298 - accuracy: 0.7237 - val_loss: 0.7230 - val_accuracy: 0.6562\n",
            "Epoch 2/30\n",
            "15/15 [==============================] - 4s 272ms/step - loss: 0.3130 - accuracy: 0.8772 - val_loss: 0.3699 - val_accuracy: 0.7500\n",
            "Epoch 3/30\n",
            "15/15 [==============================] - 4s 272ms/step - loss: 0.2494 - accuracy: 0.8904 - val_loss: 0.4199 - val_accuracy: 0.8125\n",
            "Epoch 4/30\n",
            "15/15 [==============================] - 4s 276ms/step - loss: 0.1964 - accuracy: 0.9189 - val_loss: 0.9971 - val_accuracy: 0.6250\n",
            "Epoch 5/30\n",
            "15/15 [==============================] - 4s 280ms/step - loss: 0.1281 - accuracy: 0.9542 - val_loss: 0.4719 - val_accuracy: 0.8438\n",
            "Epoch 6/30\n",
            "15/15 [==============================] - 4s 283ms/step - loss: 0.1451 - accuracy: 0.9479 - val_loss: 0.8584 - val_accuracy: 0.6875\n",
            "Epoch 7/30\n",
            "15/15 [==============================] - 4s 274ms/step - loss: 0.1182 - accuracy: 0.9518 - val_loss: 0.5853 - val_accuracy: 0.8750\n",
            "Epoch 8/30\n",
            "15/15 [==============================] - 4s 283ms/step - loss: 0.1208 - accuracy: 0.9479 - val_loss: 0.7416 - val_accuracy: 0.7188\n",
            "Epoch 9/30\n",
            "15/15 [==============================] - 4s 273ms/step - loss: 0.0830 - accuracy: 0.9737 - val_loss: 0.4942 - val_accuracy: 0.8438\n",
            "Epoch 10/30\n",
            "15/15 [==============================] - 4s 268ms/step - loss: 0.1036 - accuracy: 0.9627 - val_loss: 0.5010 - val_accuracy: 0.8125\n",
            "Epoch 11/30\n",
            "15/15 [==============================] - 4s 283ms/step - loss: 0.1695 - accuracy: 0.9479 - val_loss: 0.7394 - val_accuracy: 0.7188\n",
            "Epoch 12/30\n",
            "15/15 [==============================] - 4s 268ms/step - loss: 0.0678 - accuracy: 0.9825 - val_loss: 0.6243 - val_accuracy: 0.7812\n",
            "Epoch 13/30\n",
            "15/15 [==============================] - 5s 344ms/step - loss: 0.0310 - accuracy: 0.9937 - val_loss: 0.5686 - val_accuracy: 0.8125\n",
            "Epoch 14/30\n",
            "15/15 [==============================] - 4s 271ms/step - loss: 0.1629 - accuracy: 0.9386 - val_loss: 0.4077 - val_accuracy: 0.8438\n",
            "Epoch 15/30\n",
            "15/15 [==============================] - 4s 275ms/step - loss: 0.0354 - accuracy: 0.9937 - val_loss: 0.7469 - val_accuracy: 0.8125\n",
            "Epoch 16/30\n",
            "15/15 [==============================] - 4s 270ms/step - loss: 0.0572 - accuracy: 0.9759 - val_loss: 1.1823 - val_accuracy: 0.6875\n",
            "Epoch 17/30\n",
            "15/15 [==============================] - 4s 280ms/step - loss: 0.0907 - accuracy: 0.9688 - val_loss: 0.3932 - val_accuracy: 0.8750\n",
            "Epoch 18/30\n",
            "15/15 [==============================] - 4s 267ms/step - loss: 0.0471 - accuracy: 0.9846 - val_loss: 0.4194 - val_accuracy: 0.8750\n",
            "Epoch 19/30\n",
            "15/15 [==============================] - 4s 269ms/step - loss: 0.0405 - accuracy: 0.9803 - val_loss: 0.9832 - val_accuracy: 0.7812\n",
            "Epoch 20/30\n",
            "15/15 [==============================] - 4s 285ms/step - loss: 0.0170 - accuracy: 0.9958 - val_loss: 1.1139 - val_accuracy: 0.7812\n",
            "Epoch 21/30\n",
            "15/15 [==============================] - 4s 268ms/step - loss: 0.1977 - accuracy: 0.9539 - val_loss: 0.6089 - val_accuracy: 0.7812\n",
            "Epoch 22/30\n",
            "15/15 [==============================] - 4s 272ms/step - loss: 0.0195 - accuracy: 0.9978 - val_loss: 1.1296 - val_accuracy: 0.7500\n",
            "Epoch 23/30\n",
            "15/15 [==============================] - 4s 269ms/step - loss: 0.0068 - accuracy: 1.0000 - val_loss: 1.0511 - val_accuracy: 0.7500\n",
            "Epoch 24/30\n",
            "15/15 [==============================] - 4s 274ms/step - loss: 0.0101 - accuracy: 0.9978 - val_loss: 0.3871 - val_accuracy: 0.8750\n",
            "Epoch 25/30\n",
            "15/15 [==============================] - 4s 278ms/step - loss: 0.1591 - accuracy: 0.9583 - val_loss: 0.6067 - val_accuracy: 0.8125\n",
            "Epoch 26/30\n",
            "15/15 [==============================] - 4s 287ms/step - loss: 0.0083 - accuracy: 1.0000 - val_loss: 0.2871 - val_accuracy: 0.9062\n",
            "Epoch 27/30\n",
            "15/15 [==============================] - 4s 273ms/step - loss: 0.0096 - accuracy: 0.9978 - val_loss: 5.6085 - val_accuracy: 0.5000\n",
            "Epoch 28/30\n",
            "15/15 [==============================] - 4s 270ms/step - loss: 0.1655 - accuracy: 0.9561 - val_loss: 0.1671 - val_accuracy: 0.9062\n",
            "Epoch 29/30\n",
            "15/15 [==============================] - 4s 273ms/step - loss: 0.0049 - accuracy: 1.0000 - val_loss: 0.4027 - val_accuracy: 0.8750\n",
            "Epoch 30/30\n",
            "15/15 [==============================] - 6s 370ms/step - loss: 0.0018 - accuracy: 1.0000 - val_loss: 0.6651 - val_accuracy: 0.7812\n"
          ]
        }
      ]
    },
    {
      "cell_type": "code",
      "source": [
        "h = history.history\n",
        "plt.style.use('ggplot')\n",
        "plt.figure(figsize=(10, 5))\n",
        "plt.plot(h['loss'], c='red', label='Training Loss')\n",
        "plt.plot(h['val_loss'], c='red', linestyle='--', label='Validation Loss')\n",
        "plt.plot(h['accuracy'], c='blue', label='Training Accuracy')\n",
        "plt.plot(h['val_accuracy'], c='blue', linestyle='--', label='Validation Accuracy')\n",
        "plt.xlabel(\"Number of Epochs\")\n",
        "plt.legend(loc='best')\n",
        "plt.show()"
      ],
      "metadata": {
        "colab": {
          "base_uri": "https://localhost:8080/",
          "height": 337
        },
        "id": "PaIkvxL1RsgV",
        "outputId": "a143c186-df4c-44d0-c5db-888461a7eadd"
      },
      "execution_count": null,
      "outputs": [
        {
          "output_type": "display_data",
          "data": {
            "text/plain": [
              "<Figure size 720x360 with 1 Axes>"
            ],
            "image/png": "[encoded data removed]"
          },
          "metadata": {}
        }
      ]
    },
    {
      "cell_type": "code",
      "source": [
        "model.save('/content/drive/MyDrive/adult_child/model_82.5.h5')"
      ],
      "metadata": {
        "id": "DMZOOFrtUmPK"
      },
      "execution_count": null,
      "outputs": []
    },
    {
      "cell_type": "markdown",
      "source": [
        "# **Using pre-trained InceptionV3 model**"
      ],
      "metadata": {
        "id": "VfYi60OUplIm"
      }
    },
    {
      "cell_type": "code",
      "source": [
        "from tensorflow.keras.applications.inception_v3 import InceptionV3\n",
        "base_model = InceptionV3(input_shape = (150, 150, 3), include_top = False, weights = 'imagenet')"
      ],
      "metadata": {
        "id": "9wgM2b0yxyzu",
        "colab": {
          "base_uri": "https://localhost:8080/"
        },
        "outputId": "9849c25b-f143-46ad-a594-dcb2b7c78c8a"
      },
      "execution_count": 9,
      "outputs": [
        {
          "output_type": "stream",
          "name": "stdout",
          "text": [
            "Downloading data from https://storage.googleapis.com/tensorflow/keras-applications/inception_v3/inception_v3_weights_tf_dim_ordering_tf_kernels_notop.h5\n",
            "87910968/87910968 [==============================] - 1s 0us/step\n"
          ]
        }
      ]
    },
    {
      "cell_type": "code",
      "source": [
        "for layer in base_model.layers:\n",
        "    layer.trainable = False"
      ],
      "metadata": {
        "id": "oW-BqGN_xzo_"
      },
      "execution_count": 10,
      "outputs": []
    },
    {
      "cell_type": "code",
      "source": [
        "from tensorflow.keras.optimizers import RMSprop\n",
        "from keras import models, layers, optimizers\n",
        "\n",
        "x = layers.Flatten()(base_model.output)\n",
        "x = layers.Dense(1024, activation='relu')(x)\n",
        "x = layers.Dropout(0.2)(x)\n",
        "\n",
        "# Add a final sigmoid layer with 1 node for classification output\n",
        "x = layers.Dense(1, activation='sigmoid')(x)\n",
        "\n",
        "model = tf.keras.models.Model(base_model.input, x)\n",
        "\n",
        "model.compile(optimizer = RMSprop(lr=0.0001), loss = 'binary_crossentropy', metrics = ['acc'])"
      ],
      "metadata": {
        "id": "Tc_c1OTWx3Vf"
      },
      "execution_count": 11,
      "outputs": []
    },
    {
      "cell_type": "code",
      "source": [
        "train_datagen = ImageDataGenerator(rescale=1/255.,\n",
        "                                  horizontal_flip=True,\n",
        "                                  shear_range=0.2,\n",
        "                                  height_shift_range=0.2,\n",
        "                                  width_shift_range=0.2,\n",
        "                                  fill_mode='nearest')\n",
        "\n",
        "train = train_datagen.flow_from_directory(train_path,\n",
        "                                         batch_size=32,\n",
        "                                         target_size=(150,150),\n",
        "                                         class_mode='binary',\n",
        "                                         shuffle=True,\n",
        "                                         interpolation='nearest')"
      ],
      "metadata": {
        "colab": {
          "base_uri": "https://localhost:8080/"
        },
        "id": "FHR0fm3RzuUZ",
        "outputId": "b5aa0893-30e8-4d3c-8aa3-6b20e45c0b34"
      },
      "execution_count": 12,
      "outputs": [
        {
          "output_type": "stream",
          "name": "stdout",
          "text": [
            "Found 680 images belonging to 2 classes.\n"
          ]
        }
      ]
    },
    {
      "cell_type": "code",
      "source": [
        "test_datagen = ImageDataGenerator(rescale=1/255.)\n",
        "\n",
        "test = test_datagen.flow_from_directory(test_path,\n",
        "                                        batch_size=32,\n",
        "                                        target_size=(150,150),\n",
        "                                        class_mode='binary',\n",
        "                                        shuffle=True,\n",
        "                                        interpolation='nearest')"
      ],
      "metadata": {
        "colab": {
          "base_uri": "https://localhost:8080/"
        },
        "id": "BS6g6esRzu-m",
        "outputId": "43d6403a-762e-4ae6-c4bb-2f5093d4de1c"
      },
      "execution_count": 13,
      "outputs": [
        {
          "output_type": "stream",
          "name": "stdout",
          "text": [
            "Found 120 images belonging to 2 classes.\n"
          ]
        }
      ]
    },
    {
      "cell_type": "code",
      "source": [
        "reduce_lr = ReduceLROnPlateau(monitor='val_acc',patience=5,mode='max',verbose=1,min_lr=0.001,factor=0.1)\n",
        "model_checkpoint = ModelCheckpoint('checkpoint/',monitor='val_acc',mode='max',save_best_only=True,verbose=1)\n",
        "early_stopping = EarlyStopping(monitor='val_acc',mode='max',verbose=1,patience=20)\n",
        "\n",
        "inc_history = model.fit_generator(\n",
        "    train, \n",
        "    validation_data = test, \n",
        "    steps_per_epoch = 15, \n",
        "    epochs = 30,\n",
        "    callbacks=[reduce_lr,model_checkpoint,early_stopping]\n",
        "    )"
      ],
      "metadata": {
        "colab": {
          "base_uri": "https://localhost:8080/"
        },
        "id": "2bZ4YTEHx6vg",
        "outputId": "0127a8b2-446e-4387-aef5-6a968cec7860"
      },
      "execution_count": 14,
      "outputs": [
        {
          "output_type": "stream",
          "name": "stdout",
          "text": [
            "Epoch 1/30\n",
            "15/15 [==============================] - ETA: 0s - loss: 4.6766 - acc: 0.5396\n",
            "Epoch 1: val_acc improved from -inf to 0.57500, saving model to checkpoint/\n"
          ]
        },
        {
          "output_type": "stream",
          "name": "stderr",
          "text": [
            "WARNING:absl:Found untraced functions such as _jit_compiled_convolution_op, _jit_compiled_convolution_op, _jit_compiled_convolution_op, _jit_compiled_convolution_op, _jit_compiled_convolution_op while saving (showing 5 of 94). These functions will not be directly callable after loading.\n"
          ]
        },
        {
          "output_type": "stream",
          "name": "stdout",
          "text": [
            "\b\b\b\b\b\b\b\b\b\b\b\b\b\b\b\b\b\b\b\b\b\b\b\b\b\b\b\b\b\b\b\b\b\b\b\b\b\b\b\b\b\b\b\b\b\b\b\b\b\b\b\b\b\b\b\b\b\b\b\b\b\b\b\b\b\b\b\b\b\b\b\b\b\b\b\b\b\r15/15 [==============================] - 126s 8s/step - loss: 4.6766 - acc: 0.5396 - val_loss: 1.1597 - val_acc: 0.5750 - lr: 1.0000e-04\n",
            "Epoch 2/30\n",
            "15/15 [==============================] - ETA: 0s - loss: 0.8005 - acc: 0.6404\n",
            "Epoch 2: val_acc improved from 0.57500 to 0.66667, saving model to checkpoint/\n"
          ]
        },
        {
          "output_type": "stream",
          "name": "stderr",
          "text": [
            "WARNING:absl:Found untraced functions such as _jit_compiled_convolution_op, _jit_compiled_convolution_op, _jit_compiled_convolution_op, _jit_compiled_convolution_op, _jit_compiled_convolution_op while saving (showing 5 of 94). These functions will not be directly callable after loading.\n"
          ]
        },
        {
          "output_type": "stream",
          "name": "stdout",
          "text": [
            "\b\b\b\b\b\b\b\b\b\b\b\b\b\b\b\b\b\b\b\b\b\b\b\b\b\b\b\b\b\b\b\b\b\b\b\b\b\b\b\b\b\b\b\b\b\b\b\b\b\b\b\b\b\b\b\b\b\b\b\b\b\b\b\b\b\b\b\b\b\b\b\b\b\b\b\b\b\r15/15 [==============================] - 41s 3s/step - loss: 0.8005 - acc: 0.6404 - val_loss: 0.8187 - val_acc: 0.6667 - lr: 1.0000e-04\n",
            "Epoch 3/30\n",
            "15/15 [==============================] - ETA: 0s - loss: 0.6627 - acc: 0.6623\n",
            "Epoch 3: val_acc did not improve from 0.66667\n",
            "15/15 [==============================] - 7s 463ms/step - loss: 0.6627 - acc: 0.6623 - val_loss: 1.1559 - val_acc: 0.6333 - lr: 1.0000e-04\n",
            "Epoch 4/30\n",
            "15/15 [==============================] - ETA: 0s - loss: 0.6134 - acc: 0.7292\n",
            "Epoch 4: val_acc improved from 0.66667 to 0.70833, saving model to checkpoint/\n"
          ]
        },
        {
          "output_type": "stream",
          "name": "stderr",
          "text": [
            "WARNING:absl:Found untraced functions such as _jit_compiled_convolution_op, _jit_compiled_convolution_op, _jit_compiled_convolution_op, _jit_compiled_convolution_op, _jit_compiled_convolution_op while saving (showing 5 of 94). These functions will not be directly callable after loading.\n"
          ]
        },
        {
          "output_type": "stream",
          "name": "stdout",
          "text": [
            "\b\b\b\b\b\b\b\b\b\b\b\b\b\b\b\b\b\b\b\b\b\b\b\b\b\b\b\b\b\b\b\b\b\b\b\b\b\b\b\b\b\b\b\b\b\b\b\b\b\b\b\b\b\b\b\b\b\b\b\b\b\b\b\b\b\b\b\b\b\b\b\b\b\b\b\b\b\r15/15 [==============================] - 31s 2s/step - loss: 0.6134 - acc: 0.7292 - val_loss: 0.7252 - val_acc: 0.7083 - lr: 1.0000e-04\n",
            "Epoch 5/30\n",
            "15/15 [==============================] - ETA: 0s - loss: 0.6393 - acc: 0.7104\n",
            "Epoch 5: val_acc did not improve from 0.70833\n",
            "15/15 [==============================] - 5s 319ms/step - loss: 0.6393 - acc: 0.7104 - val_loss: 2.1095 - val_acc: 0.5167 - lr: 1.0000e-04\n",
            "Epoch 6/30\n",
            "15/15 [==============================] - ETA: 0s - loss: 0.6794 - acc: 0.7292\n",
            "Epoch 6: val_acc did not improve from 0.70833\n",
            "15/15 [==============================] - 5s 321ms/step - loss: 0.6794 - acc: 0.7292 - val_loss: 0.7322 - val_acc: 0.6750 - lr: 1.0000e-04\n",
            "Epoch 7/30\n",
            "15/15 [==============================] - ETA: 0s - loss: 0.5090 - acc: 0.7500\n",
            "Epoch 7: val_acc did not improve from 0.70833\n",
            "15/15 [==============================] - 5s 313ms/step - loss: 0.5090 - acc: 0.7500 - val_loss: 0.8730 - val_acc: 0.6750 - lr: 1.0000e-04\n",
            "Epoch 8/30\n",
            "15/15 [==============================] - ETA: 0s - loss: 0.5501 - acc: 0.7563\n",
            "Epoch 8: val_acc did not improve from 0.70833\n",
            "15/15 [==============================] - 5s 315ms/step - loss: 0.5501 - acc: 0.7563 - val_loss: 1.5654 - val_acc: 0.5500 - lr: 1.0000e-04\n",
            "Epoch 9/30\n",
            "15/15 [==============================] - ETA: 0s - loss: 0.6338 - acc: 0.7193\n",
            "Epoch 9: val_acc did not improve from 0.70833\n",
            "15/15 [==============================] - 5s 302ms/step - loss: 0.6338 - acc: 0.7193 - val_loss: 0.6578 - val_acc: 0.6750 - lr: 1.0000e-04\n",
            "Epoch 10/30\n",
            "15/15 [==============================] - ETA: 0s - loss: 0.4945 - acc: 0.7719\n",
            "Epoch 10: val_acc did not improve from 0.70833\n",
            "15/15 [==============================] - 5s 300ms/step - loss: 0.4945 - acc: 0.7719 - val_loss: 0.7302 - val_acc: 0.6750 - lr: 1.0000e-04\n",
            "Epoch 11/30\n",
            "15/15 [==============================] - ETA: 0s - loss: 0.5525 - acc: 0.7604\n",
            "Epoch 11: val_acc did not improve from 0.70833\n",
            "15/15 [==============================] - 5s 311ms/step - loss: 0.5525 - acc: 0.7604 - val_loss: 0.8464 - val_acc: 0.6917 - lr: 1.0000e-04\n",
            "Epoch 12/30\n",
            "15/15 [==============================] - ETA: 0s - loss: 0.4608 - acc: 0.7937\n",
            "Epoch 12: val_acc did not improve from 0.70833\n",
            "15/15 [==============================] - 5s 313ms/step - loss: 0.4608 - acc: 0.7937 - val_loss: 0.6288 - val_acc: 0.6583 - lr: 1.0000e-04\n",
            "Epoch 13/30\n",
            "15/15 [==============================] - ETA: 0s - loss: 0.4295 - acc: 0.8229\n",
            "Epoch 13: val_acc did not improve from 0.70833\n",
            "15/15 [==============================] - 5s 314ms/step - loss: 0.4295 - acc: 0.8229 - val_loss: 1.0220 - val_acc: 0.7000 - lr: 1.0000e-04\n",
            "Epoch 14/30\n",
            "15/15 [==============================] - ETA: 0s - loss: 0.4624 - acc: 0.8114\n",
            "Epoch 14: val_acc did not improve from 0.70833\n",
            "15/15 [==============================] - 4s 297ms/step - loss: 0.4624 - acc: 0.8114 - val_loss: 0.8052 - val_acc: 0.6917 - lr: 1.0000e-04\n",
            "Epoch 15/30\n",
            "15/15 [==============================] - ETA: 0s - loss: 0.4336 - acc: 0.8229\n",
            "Epoch 15: val_acc did not improve from 0.70833\n",
            "15/15 [==============================] - 5s 316ms/step - loss: 0.4336 - acc: 0.8229 - val_loss: 1.2395 - val_acc: 0.6417 - lr: 1.0000e-04\n",
            "Epoch 16/30\n",
            "15/15 [==============================] - ETA: 0s - loss: 0.5415 - acc: 0.7719\n",
            "Epoch 16: val_acc did not improve from 0.70833\n",
            "15/15 [==============================] - 5s 301ms/step - loss: 0.5415 - acc: 0.7719 - val_loss: 0.8326 - val_acc: 0.6667 - lr: 1.0000e-04\n",
            "Epoch 17/30\n",
            "15/15 [==============================] - ETA: 0s - loss: 0.4120 - acc: 0.8208\n",
            "Epoch 17: val_acc did not improve from 0.70833\n",
            "15/15 [==============================] - 5s 316ms/step - loss: 0.4120 - acc: 0.8208 - val_loss: 0.6920 - val_acc: 0.6833 - lr: 1.0000e-04\n",
            "Epoch 18/30\n",
            "15/15 [==============================] - ETA: 0s - loss: 0.4462 - acc: 0.8070\n",
            "Epoch 18: val_acc improved from 0.70833 to 0.73333, saving model to checkpoint/\n"
          ]
        },
        {
          "output_type": "stream",
          "name": "stderr",
          "text": [
            "WARNING:absl:Found untraced functions such as _jit_compiled_convolution_op, _jit_compiled_convolution_op, _jit_compiled_convolution_op, _jit_compiled_convolution_op, _jit_compiled_convolution_op while saving (showing 5 of 94). These functions will not be directly callable after loading.\n"
          ]
        },
        {
          "output_type": "stream",
          "name": "stdout",
          "text": [
            "\b\b\b\b\b\b\b\b\b\b\b\b\b\b\b\b\b\b\b\b\b\b\b\b\b\b\b\b\b\b\b\b\b\b\b\b\b\b\b\b\b\b\b\b\b\b\b\b\b\b\b\b\b\b\b\b\b\b\b\b\b\b\b\b\b\b\b\b\b\b\b\b\b\b\b\b\b\r15/15 [==============================] - 32s 2s/step - loss: 0.4462 - acc: 0.8070 - val_loss: 0.7756 - val_acc: 0.7333 - lr: 1.0000e-04\n",
            "Epoch 19/30\n",
            "15/15 [==============================] - ETA: 0s - loss: 0.3791 - acc: 0.8246\n",
            "Epoch 19: val_acc did not improve from 0.73333\n",
            "15/15 [==============================] - 4s 297ms/step - loss: 0.3791 - acc: 0.8246 - val_loss: 1.4077 - val_acc: 0.6750 - lr: 1.0000e-04\n",
            "Epoch 20/30\n",
            "15/15 [==============================] - ETA: 0s - loss: 0.4515 - acc: 0.8114\n",
            "Epoch 20: val_acc did not improve from 0.73333\n",
            "15/15 [==============================] - 5s 302ms/step - loss: 0.4515 - acc: 0.8114 - val_loss: 1.4505 - val_acc: 0.6667 - lr: 1.0000e-04\n",
            "Epoch 21/30\n",
            "15/15 [==============================] - ETA: 0s - loss: 0.3860 - acc: 0.8289\n",
            "Epoch 21: val_acc improved from 0.73333 to 0.75000, saving model to checkpoint/\n"
          ]
        },
        {
          "output_type": "stream",
          "name": "stderr",
          "text": [
            "WARNING:absl:Found untraced functions such as _jit_compiled_convolution_op, _jit_compiled_convolution_op, _jit_compiled_convolution_op, _jit_compiled_convolution_op, _jit_compiled_convolution_op while saving (showing 5 of 94). These functions will not be directly callable after loading.\n"
          ]
        },
        {
          "output_type": "stream",
          "name": "stdout",
          "text": [
            "\b\b\b\b\b\b\b\b\b\b\b\b\b\b\b\b\b\b\b\b\b\b\b\b\b\b\b\b\b\b\b\b\b\b\b\b\b\b\b\b\b\b\b\b\b\b\b\b\b\b\b\b\b\b\b\b\b\b\b\b\b\b\b\b\b\b\b\b\b\b\b\b\b\b\b\b\b\r15/15 [==============================] - 30s 2s/step - loss: 0.3860 - acc: 0.8289 - val_loss: 0.9050 - val_acc: 0.7500 - lr: 1.0000e-04\n",
            "Epoch 22/30\n",
            "15/15 [==============================] - ETA: 0s - loss: 0.4046 - acc: 0.8531\n",
            "Epoch 22: val_acc did not improve from 0.75000\n",
            "15/15 [==============================] - 5s 305ms/step - loss: 0.4046 - acc: 0.8531 - val_loss: 0.9766 - val_acc: 0.7333 - lr: 1.0000e-04\n",
            "Epoch 23/30\n",
            "15/15 [==============================] - ETA: 0s - loss: 0.3375 - acc: 0.8604\n",
            "Epoch 23: val_acc did not improve from 0.75000\n",
            "15/15 [==============================] - 5s 316ms/step - loss: 0.3375 - acc: 0.8604 - val_loss: 0.7417 - val_acc: 0.7083 - lr: 1.0000e-04\n",
            "Epoch 24/30\n",
            "15/15 [==============================] - ETA: 0s - loss: 0.4712 - acc: 0.8114\n",
            "Epoch 24: val_acc did not improve from 0.75000\n",
            "15/15 [==============================] - 5s 304ms/step - loss: 0.4712 - acc: 0.8114 - val_loss: 0.8264 - val_acc: 0.6917 - lr: 1.0000e-04\n",
            "Epoch 25/30\n",
            "15/15 [==============================] - ETA: 0s - loss: 0.4290 - acc: 0.8114\n",
            "Epoch 25: val_acc did not improve from 0.75000\n",
            "15/15 [==============================] - 5s 300ms/step - loss: 0.4290 - acc: 0.8114 - val_loss: 0.6754 - val_acc: 0.6833 - lr: 1.0000e-04\n",
            "Epoch 26/30\n",
            "15/15 [==============================] - ETA: 0s - loss: 0.2823 - acc: 0.8794\n",
            "Epoch 26: val_acc did not improve from 0.75000\n",
            "15/15 [==============================] - 5s 307ms/step - loss: 0.2823 - acc: 0.8794 - val_loss: 0.8968 - val_acc: 0.6667 - lr: 1.0000e-04\n",
            "Epoch 27/30\n",
            "15/15 [==============================] - ETA: 0s - loss: 0.3166 - acc: 0.8772\n",
            "Epoch 27: val_acc did not improve from 0.75000\n",
            "15/15 [==============================] - 5s 304ms/step - loss: 0.3166 - acc: 0.8772 - val_loss: 0.9435 - val_acc: 0.7167 - lr: 1.0000e-04\n",
            "Epoch 28/30\n",
            "15/15 [==============================] - ETA: 0s - loss: 0.3033 - acc: 0.8750\n",
            "Epoch 28: val_acc did not improve from 0.75000\n",
            "15/15 [==============================] - 5s 304ms/step - loss: 0.3033 - acc: 0.8750 - val_loss: 2.2632 - val_acc: 0.5750 - lr: 1.0000e-04\n",
            "Epoch 29/30\n",
            "15/15 [==============================] - ETA: 0s - loss: 0.3201 - acc: 0.8562\n",
            "Epoch 29: val_acc did not improve from 0.75000\n",
            "15/15 [==============================] - 5s 310ms/step - loss: 0.3201 - acc: 0.8562 - val_loss: 0.9765 - val_acc: 0.6917 - lr: 1.0000e-04\n",
            "Epoch 30/30\n",
            "15/15 [==============================] - ETA: 0s - loss: 0.3050 - acc: 0.8816\n",
            "Epoch 30: val_acc did not improve from 0.75000\n",
            "15/15 [==============================] - 5s 309ms/step - loss: 0.3050 - acc: 0.8816 - val_loss: 1.3270 - val_acc: 0.6500 - lr: 1.0000e-04\n"
          ]
        }
      ]
    },
    {
      "cell_type": "code",
      "source": [
        "h = inc_history.history\n",
        "plt.style.use('ggplot')\n",
        "plt.figure(figsize=(10, 5))\n",
        "plt.plot(h['loss'], c='red', label='Training Loss')\n",
        "plt.plot(h['val_loss'], c='red', linestyle='--', label='Validation Loss')\n",
        "plt.plot(h['acc'], c='blue', label='Training Accuracy')\n",
        "plt.plot(h['val_acc'], c='blue', linestyle='--', label='Validation Accuracy')\n",
        "plt.xlabel(\"Number of Epochs\")\n",
        "# plt.legend(loc='best')\n",
        "plt.show()"
      ],
      "metadata": {
        "id": "Pq-qTEuDyEWJ",
        "colab": {
          "base_uri": "https://localhost:8080/",
          "height": 337
        },
        "outputId": "15d5f560-7eb9-4bee-a7c7-951d6e3fa041"
      },
      "execution_count": 15,
      "outputs": [
        {
          "output_type": "display_data",
          "data": {
            "text/plain": [
              "<Figure size 720x360 with 1 Axes>"
            ],
            "image/png": "[encoded data removed]"
          },
          "metadata": {}
        }
      ]
    },
    {
      "cell_type": "code",
      "source": [
        "model.save('/content/drive/MyDrive/adult_child/model_inc.h5')"
      ],
      "metadata": {
        "id": "Va1pRDXtD0zc"
      },
      "execution_count": 22,
      "outputs": []
    }
  ]
}